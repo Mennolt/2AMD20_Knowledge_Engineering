{
 "cells": [
  {
   "cell_type": "code",
   "execution_count": 1,
   "id": "d0cec904",
   "metadata": {},
   "outputs": [],
   "source": [
    "import pandas as pd\n",
    "import numpy as np\n",
    "from tqdm import tqdm"
   ]
  },
  {
   "cell_type": "code",
   "execution_count": null,
   "id": "e1b3f546",
   "metadata": {},
   "outputs": [],
   "source": [
    "# Import the OpenFoodFacts database\n",
    "df2 = pd.read_csv(\"en.openfoodfacts.org.products.csv\", sep=\"\\t\", \n",
    "                  converters={\"ingredients_tags\": lambda x: x.strip(\"[]'\").strip('\"').split(\",\"), \n",
    "                                \"ingredients_analysis_tags\": lambda x: x.strip(\"[]'\").strip('\"').split(\",\"),})"
   ]
  },
  {
   "cell_type": "code",
   "execution_count": 6,
   "id": "f164994c",
   "metadata": {},
   "outputs": [],
   "source": [
    "# Remove unnecessary columns\n",
    "df2 = df2.drop(columns=[\"code\", \"url\", \"creator\", \"created_t\", \n",
    "                        \"last_modified_t\", \"last_modified_datetime\", \n",
    "                        \"last_modified_by\", \"packaging\", \"packaging_tags\", \n",
    "                        \"packaging_en\", \"packaging_text\", \"brands\", \"brands_tags\", \n",
    "                        \"categories\", \"categories_tags\", \"origins\", \"origins_tags\", \n",
    "                        \"origins_en\", \"manufacturing_places\", \"manufacturing_places_tags\", \n",
    "                        \"labels\", \"labels_tags\", \"labels_en\", \"emb_codes\", \"emb_codes_tags\", \n",
    "                        \"first_packaging_code_geo\", \"cities\", \"cities_tags\", \"purchase_places\", \n",
    "                        \"stores\", \"countries\", \"countries_tags\", \"countries_en\", \n",
    "                        \"ingredients_text\", \"allergens\", \"allergens_en\", \"traces\", \n",
    "                        \"traces_tags\", \"traces_en\", \"additives_n\", \"additives\", \n",
    "                        \"additives_tags\", \"additives_en\", \"nutriscore_score\", \n",
    "                        \"nutriscore_grade\", \"nova_group\", \"pnns_groups_1\", \n",
    "                        \"pnns_groups_2\", \"states\", \"states_tags\", \"states_en\", \n",
    "                        \"brand_owner\", \"ecoscore_score\", \"ecoscore_grade\", \n",
    "                        \"owner\", \"data_quality_errors_tags\", \"unique_scans_n\", \n",
    "                        \"popularity_tags\", \"completeness\", \"last_image_t\", \n",
    "                        \"last_image_datetime\", \"image_url\", \"image_small_url\", \n",
    "                        \"image_ingredients_url\", \"image_ingredients_small_url\", \n",
    "                        \"image_nutrition_url\", \"image_nutrition_small_url\", \n",
    "                        \"butyric-acid_100g\", \"caproic-acid_100g\", \"caprylic-acid_100g\", \n",
    "                        \"capric-acid_100g\", \"lauric-acid_100g\", \"myristic-acid_100g\", \n",
    "                        \"palmitic-acid_100g\", \"stearic-acid_100g\", \"arachidic-acid_100g\", \n",
    "                        \"behenic-acid_100g\", \"lignoceric-acid_100g\", \"cerotic-acid_100g\", \n",
    "                        \"montanic-acid_100g\", \"melissic-acid_100g\", \"abbreviated_product_name\", \n",
    "                        \"cocoa_100g\", \"chlorophyl_100g\", \"carbon-footprint_100g\", \n",
    "                        \"carbon-footprint-from-meat-or-fish_100g\", \"nutrition-score-fr_100g\", \n",
    "                        \"nutrition-score-uk_100g\", \"glycemic-index_100g\", \"water-hardness_100g\", \n",
    "                        \"choline_100g\", \"phylloquinone_100g\", \"beta-glucan_100g\", \"inositol_100g\", \n",
    "                        \"carnitine_100g\", \"sulphate_100g\", \"nitrate_100g\", \"cholesterol_100g\", \n",
    "                        \"added-sugars_100g\", \"sucrose_100g\", \"glucose_100g\", \"fructose_100g\", \n",
    "                        \"lactose_100g\", \"maltose_100g\", \"maltodextrins_100g\", \"starch_100g\", \n",
    "                        \"polyols_100g\", \"erythritol_100g\", \"fiber_100g\", \"soluble-fiber_100g\", \n",
    "                        \"insoluble-fiber_100g\", \"casein_100g\", \"serum-proteins_100g\", \"nucleotides_100g\", \n",
    "                        \"added-salt_100g\", \"alcohol_100g\", \"vitamin-a_100g\", \"beta-carotene_100g\", \n",
    "                        \"vitamin-d_100g\", \"vitamin-e_100g\", \"vitamin-k_100g\", \"vitamin-c_100g\", \n",
    "                        \"vitamin-b1_100g\", \"vitamin-b2_100g\", \"vitamin-pp_100g\", \"vitamin-b6_100g\", \n",
    "                        \"vitamin-b9_100g\", \"folates_100g\", \"vitamin-b12_100g\", \"biotin_100g\", \n",
    "                        \"pantothenic-acid_100g\", \"silica_100g\", \"bicarbonate_100g\", \n",
    "                        \"potassium_100g\", \"chloride_100g\", \"calcium_100g\", \"phosphorus_100g\", \n",
    "                        \"iron_100g\", \"magnesium_100g\", \"zinc_100g\", \"copper_100g\", \n",
    "                        \"manganese_100g\", \"fluoride_100g\", \"selenium_100g\", \"chromium_100g\", \n",
    "                        \"molybdenum_100g\", \"iodine_100g\", \"caffeine_100g\", \"taurine_100g\",\n",
    "                        \"ph_100g\", \"fruits-vegetables-nuts_100g\", \"fruits-vegetables-nuts-dried_100g\", \n",
    "                        \"fruits-vegetables-nuts-estimate_100g\", \"fruits-vegetables-nuts-estimate-from-ingredients_100g\", \n",
    "                        \"collagen-meat-protein-ratio_100g\", \"saturated-fat_100g\", \n",
    "                        \"unsaturated-fat_100g\", \"monounsaturated-fat_100g\", \"polyunsaturated-fat_100g\", \n",
    "                        \"omega-3-fat_100g\", \"alpha-linolenic-acid_100g\", \"eicosapentaenoic-acid_100g\", \n",
    "                        \"docosahexaenoic-acid_100g\", \"omega-6-fat_100g\", \"linoleic-acid_100g\", \n",
    "                        \"arachidonic-acid_100g\", \"gamma-linolenic-acid_100g\", \n",
    "                        \"dihomo-gamma-linolenic-acid_100g\", \"omega-9-fat_100g\", \n",
    "                        \"oleic-acid_100g\", \"elaidic-acid_100g\", \"gondoic-acid_100g\",\n",
    "                        \"mead-acid_100g\", \"erucic-acid_100g\", \"nervonic-acid_100g\", \n",
    "                        \"trans-fat_100g\", \"energy-kj_100g\", \"energy-kcal_100g\", \"energy_100g\", \n",
    "                        \"energy-from-fat_100g\", \"no_nutrition_data\", \"created_datetime\"])"
   ]
  },
  {
   "cell_type": "code",
   "execution_count": 8,
   "id": "15c64105",
   "metadata": {},
   "outputs": [],
   "source": [
    "# Drop rows with null values for fat, protein, or carbs\n",
    "df3 = df2[df2[\"fat_100g\"].isnull()]\n",
    "df4 = df3[df3[\"proteins_100g\"].isnull()]\n",
    "df5 = df4[df4[\"carbohydrates_100g\"].isnull()]\n",
    "df6 = df2.drop(df5.index).reset_index(drop=True)"
   ]
  },
  {
   "cell_type": "code",
   "execution_count": 13,
   "id": "ffdc0f11",
   "metadata": {},
   "outputs": [],
   "source": [
    "# Drop rows with null values for product name\n",
    "df7 = df6.drop(df6[df6[\"generic_name\"].isnull()].index).reset_index(drop=True)"
   ]
  },
  {
   "cell_type": "code",
   "execution_count": 54,
   "id": "a90fdbda",
   "metadata": {},
   "outputs": [],
   "source": [
    "# Drop rows with no ingredients\n",
    "nutrients = df7.drop(df7[df7[\"ingredients_tags\"].isnull()].index).reset_index(drop=True)"
   ]
  },
  {
   "cell_type": "code",
   "execution_count": null,
   "id": "325d3f5f",
   "metadata": {},
   "outputs": [],
   "source": [
    "# Remove all non-English ingredients\n",
    "for i in tqdm(range(len(nutrients))):\n",
    "    for ingr in nutrients[\"ingredients_tags\"][i]:\n",
    "        if ingr[0:3] != \"en:\":\n",
    "            nutrients[\"ingredients_tags\"][i].remove(ingr)   "
   ]
  },
  {
   "cell_type": "code",
   "execution_count": null,
   "id": "56e5e6a9",
   "metadata": {},
   "outputs": [],
   "source": [
    "# Filter again to find any stragglers\n",
    "for i in tqdm(range(len(nutrients))):\n",
    "    for ingr in nutrients[\"ingredients_tags\"][i]:\n",
    "        if ingr[0:3] != \"en:\":\n",
    "            nutrients[\"ingredients_tags\"][i].remove(ingr)"
   ]
  },
  {
   "cell_type": "code",
   "execution_count": null,
   "id": "951aa0a3",
   "metadata": {},
   "outputs": [],
   "source": [
    "# Remove all recipes that now no longer have any ingredients\n",
    "to_remove = []\n",
    "for i in tqdm(range(len(nutrients))):\n",
    "    if len(nutrients[\"ingredients_tags\"][i]) == 0:\n",
    "        to_remove.insert(0, i)\n",
    "        \n",
    "for j in tqdm(to_remove):\n",
    "    nutrients.drop(j, inplace=True)\n",
    "\n",
    "nutrients.reset_index(inplace=True, drop=True)"
   ]
  },
  {
   "cell_type": "code",
   "execution_count": null,
   "id": "a3a7bf7e",
   "metadata": {},
   "outputs": [],
   "source": [
    "# Import the taste profile dataset\n",
    "df_taste = pd.read_csv(\"20170202 Sensory database v004.csv\")"
   ]
  },
  {
   "cell_type": "code",
   "execution_count": null,
   "id": "07423a73",
   "metadata": {},
   "outputs": [],
   "source": [
    "# Remove unnecessary columns\n",
    "df_taste.drop(columns=[\"Food_code\", \"NEVO_code\", \"Product_description_NL\", \n",
    "                 \"Food_group_code\", \"Food_group_NL\", \"Date\", \"Serving_methods\", \"Preparation_method\", \"Reference_control_foods\",\n",
    "                \"no_sweet\", \"sd_sweet\", \"se_sweet\", \"no_salt\", \"sd_salt\", \"se_salt\",\n",
    "                \"no_fat\", \"sd_fat\", \"se_fat\", \"no_umami\", \"sd_umami\", \"se_umami\",\n",
    "                \"no_sour\", \"sd_sour\", \"se_sour\", \"no_bitter\", \"sd_bitter\", \"se_bitter\"], \n",
    "              inplace=True)"
   ]
  },
  {
   "cell_type": "code",
   "execution_count": null,
   "id": "40e2ff91",
   "metadata": {},
   "outputs": [],
   "source": [
    "# Remove all rows for the (non) alcoholic beverages food group as they are irrelevant\n",
    "df_taste2 = df_taste[df_taste[\"Food_group_EN\"] != \"(non) alcoholic beverages\"].reset_index(drop=True)"
   ]
  },
  {
   "cell_type": "code",
   "execution_count": null,
   "id": "bfeb9156",
   "metadata": {},
   "outputs": [],
   "source": [
    "df_taste2.to_csv(\"taste_profiles_unlabeled.csv\")\n",
    "\n",
    "# At this point manual labeling was applied, \n",
    "# together with manual filtering of unnecessary data\n",
    "\n",
    "df_taste_labeled = pd.read_csv(\"taste_profiles_labeled.csv\")"
   ]
  },
  {
   "cell_type": "code",
   "execution_count": null,
   "id": "9646ae7e",
   "metadata": {},
   "outputs": [],
   "source": [
    "# Import labeled taste profile data and rename columns to make more sense\n",
    "df_taste_labeled.drop(columns=[\"Unnamed: 0\", \"Product_brand\"], inplace=True)\n",
    "df_taste_labeled.rename(columns={\"Product_description_EN\": \"Product_description\", \"Food_group_EN\": \"Food_group\"}, inplace=True)"
   ]
  },
  {
   "cell_type": "code",
   "execution_count": null,
   "id": "f6610e11",
   "metadata": {},
   "outputs": [],
   "source": [
    "taste = df_taste_labeled"
   ]
  },
  {
   "cell_type": "code",
   "execution_count": null,
   "id": "3d53ae57",
   "metadata": {},
   "outputs": [],
   "source": [
    "# Map ingredients in the nutrients data to ingredients in the taste profile data\n",
    "taste[\"fat_100g\"] = 0\n",
    "taste[\"carbs_100g\"] = 0\n",
    "taste[\"proteins_100g\"] = 0\n",
    "\n",
    "for i in tqdm(range(len(taste))):\n",
    "    shortest = -1\n",
    "    for j in range(len(nutrients[\"ingredients_tags\"])):\n",
    "        lst = []\n",
    "        for ingr in nutrients[\"ingredients_tags\"][j]:\n",
    "            if taste[\"Key_ingredient\"][i] in ingr:\n",
    "                lst.append(j)\n",
    "        \n",
    "        if lst:\n",
    "            minlen = 99999\n",
    "            for ind in lst:\n",
    "                if len(nutrients[\"ingredients_tags\"][ind]) < minlen:\n",
    "                    minlen = len(nutrients[\"ingredients_tags\"][ind])\n",
    "                    shortest = ind\n",
    "    \n",
    "    if shortest > 0:\n",
    "        taste[\"fat_100g\"][i] = nutrients[\"fat_100g\"][shortest]\n",
    "        taste[\"carbs_100g\"][i] = nutrients[\"carbohydrates_100g\"][shortest]\n",
    "        taste[\"proteins_100g\"][i] = nutrients[\"proteins_100g\"][shortest]"
   ]
  },
  {
   "cell_type": "code",
   "execution_count": null,
   "id": "a6f89f34",
   "metadata": {},
   "outputs": [],
   "source": [
    "# Drop all values where fat, protein, and carbs are all 0\n",
    "ingredients = taste[(taste[\"fat_100g\"] != 0) | (taste[\"proteins_100g\"] != 0) | (taste[\"carbs_100g\"] != 0)]\n",
    "ingredients.reset_index(inplace=True, drop=True)"
   ]
  },
  {
   "cell_type": "code",
   "execution_count": null,
   "id": "31c9f28b",
   "metadata": {},
   "outputs": [],
   "source": [
    "# Check for all unique ingredients whether duplicates exist\n",
    "for i in ingredients[\"Key_ingredient\"].unique():\n",
    "    if len(ingredients[ingredients[\"Key_ingredient\"] == i]) > 1:\n",
    "        print(ingredients[ingredients[\"Key_ingredient\"] == i])\n",
    "\n",
    "# Duplicate deletion\n",
    "ingredients.drop([32,33,72], inplace=True)\n",
    "ingredients.reset_index(inplace=True, drop=True)"
   ]
  },
  {
   "cell_type": "code",
   "execution_count": null,
   "id": "79eb38f2",
   "metadata": {},
   "outputs": [],
   "source": [
    "ingredients.to_csv(\"ingredients_with_taste_profiles_and_nutrients.csv\")"
   ]
  }
 ],
 "metadata": {
  "kernelspec": {
   "display_name": "Python 3 (ipykernel)",
   "language": "python",
   "name": "python3"
  },
  "language_info": {
   "codemirror_mode": {
    "name": "ipython",
    "version": 3
   },
   "file_extension": ".py",
   "mimetype": "text/x-python",
   "name": "python",
   "nbconvert_exporter": "python",
   "pygments_lexer": "ipython3",
   "version": "3.11.3"
  }
 },
 "nbformat": 4,
 "nbformat_minor": 5
}
