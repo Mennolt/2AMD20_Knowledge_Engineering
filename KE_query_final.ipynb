{
 "cells": [
  {
   "cell_type": "code",
   "execution_count": 2,
   "metadata": {},
   "outputs": [],
   "source": [
    "from rdflib import Graph, Namespace"
   ]
  },
  {
   "cell_type": "code",
   "execution_count": 3,
   "metadata": {},
   "outputs": [
    {
     "data": {
      "text/plain": [
       "<Graph identifier=N6ad03a621f2c4742bb00a52824bf1a76 (<class 'rdflib.graph.Graph'>)>"
      ]
     },
     "execution_count": 3,
     "metadata": {},
     "output_type": "execute_result"
    }
   ],
   "source": [
    "g = Graph()\n",
    "g.parse(\"rdf_output.ttl\")"
   ]
  },
  {
   "cell_type": "code",
   "execution_count": 4,
   "metadata": {},
   "outputs": [
    {
     "name": "stdout",
     "output_type": "stream",
     "text": [
      "Recipe Oven Paprika Potatoes and its fat-carbs-protein percentage is 0.67-0.03-0.28\n",
      "Recipe Crystal'S Macaroni Delight and its fat-carbs-protein percentage is 0.67-0.03-0.28\n",
      "Recipe Baked Pineapple Salad and its fat-carbs-protein percentage is 0.67-0.03-0.28\n",
      "Recipe Broccoli Salad and its fat-carbs-protein percentage is 0.67-0.03-0.28\n",
      "Recipe Ninety-Minute Rolls and its fat-carbs-protein percentage is 0.67-0.03-0.28\n",
      "Recipe Pink Raspberry Punch and its fat-carbs-protein percentage is 0.67-0.03-0.28\n",
      "Recipe German Cherry Cake and its fat-carbs-protein percentage is 0.67-0.03-0.28\n",
      "Recipe Corned Beef And Cabbage and its fat-carbs-protein percentage is 0.67-0.03-0.28\n",
      "Recipe Tossed Artichoke Salad and its fat-carbs-protein percentage is 0.67-0.03-0.28\n",
      "Recipe Lemon Yogurt Grilled Chicken(Cooking Time:  About 20 Minutes)   and its fat-carbs-protein percentage is 0.67-0.03-0.28\n",
      "Recipe Bat Zappers and its fat-carbs-protein percentage is 0.67-0.03-0.28\n",
      "Recipe Blended Potato Pancakes and its fat-carbs-protein percentage is 0.67-0.03-0.28\n",
      "Recipe Magic Cookies Bar and its fat-carbs-protein percentage is 0.67-0.03-0.28\n",
      "Recipe Plain Flour Dumplings and its fat-carbs-protein percentage is 0.64-0.05-0.30\n",
      "Recipe Lynn'S Pasta Suprise and its fat-carbs-protein percentage is 0.55-0.09-0.35\n"
     ]
    }
   ],
   "source": [
    "query = \"\"\"\n",
    "    SELECT DISTINCT ?recipeName \n",
    "            (SUM(?carbs)/(SUM(?carbs)+SUM(?fat)+SUM(?protein)) AS ?carb_percentage)\n",
    "            (SUM(?fat)/(SUM(?carbs)+SUM(?fat)+SUM(?protein)) AS ?fat_percentage)\n",
    "            (SUM(?protein)/(SUM(?carbs)+SUM(?fat)+SUM(?protein)) AS ?protein_percentage) \n",
    "    WHERE {\n",
    "        ?recipe n:hasIngredient ?ingredient.        \n",
    "        ?recipe n:hasRecipeName ?recipeName.\n",
    "\n",
    "        ?ingredient n:hasIngredientName ?ingredientName.\n",
    "        ?ingredient n:hasCarb ?carbs.\n",
    "        ?ingredient n:hasFat ?fat.\n",
    "        ?ingredient n:hasProtein ?protein.\n",
    "    }\n",
    "    GROUP BY ?recipe\n",
    "    HAVING (SUM(?carbs)/(SUM(?carbs)+SUM(?fat)+SUM(?protein)) < 0.1)\n",
    "    ORDER BY DESC(?fat_percentage)\n",
    "    # LIMIT 10\n",
    "\"\"\"\n",
    "\n",
    "n = Namespace(\"http://example.org/\")\n",
    "result = g.query(query, initNs={'n': n})\n",
    "for row in result:\n",
    "    print(f\"Recipe {row[0]} and its fat-carbs-protein percentage is {str(row[2])[:4]}-{str(row[1])[:4]}-{str(row[3])[:4]}\")"
   ]
  },
  {
   "cell_type": "code",
   "execution_count": 5,
   "metadata": {},
   "outputs": [
    {
     "name": "stdout",
     "output_type": "stream",
     "text": [
      "Recipe Oven Paprika Potatoes and its fat-carbs-protein percentage is 0.67-0.03-0.28, total sweetness 6, total sourness 7, total bitterness 1, total umaminess 13, total saltness 18, total fatness 29\n",
      "\n",
      "Recipe Crystal'S Macaroni Delight and its fat-carbs-protein percentage is 0.67-0.03-0.28, total sweetness 6, total sourness 7, total bitterness 1, total umaminess 13, total saltness 18, total fatness 29\n",
      "\n",
      "Recipe Baked Pineapple Salad and its fat-carbs-protein percentage is 0.67-0.03-0.28, total sweetness 6, total sourness 7, total bitterness 1, total umaminess 13, total saltness 18, total fatness 29\n",
      "\n",
      "Recipe Broccoli Salad and its fat-carbs-protein percentage is 0.67-0.03-0.28, total sweetness 6, total sourness 7, total bitterness 1, total umaminess 13, total saltness 18, total fatness 29\n",
      "\n",
      "Recipe Ninety-Minute Rolls and its fat-carbs-protein percentage is 0.67-0.03-0.28, total sweetness 6, total sourness 7, total bitterness 1, total umaminess 13, total saltness 18, total fatness 29\n",
      "\n",
      "Recipe Pink Raspberry Punch and its fat-carbs-protein percentage is 0.67-0.03-0.28, total sweetness 6, total sourness 7, total bitterness 1, total umaminess 13, total saltness 18, total fatness 29\n",
      "\n",
      "Recipe German Cherry Cake and its fat-carbs-protein percentage is 0.67-0.03-0.28, total sweetness 6, total sourness 7, total bitterness 1, total umaminess 13, total saltness 18, total fatness 29\n",
      "\n",
      "Recipe Corned Beef And Cabbage and its fat-carbs-protein percentage is 0.67-0.03-0.28, total sweetness 6, total sourness 7, total bitterness 1, total umaminess 13, total saltness 18, total fatness 29\n",
      "\n",
      "Recipe Tossed Artichoke Salad and its fat-carbs-protein percentage is 0.67-0.03-0.28, total sweetness 6, total sourness 7, total bitterness 1, total umaminess 13, total saltness 18, total fatness 29\n",
      "\n",
      "Recipe Lemon Yogurt Grilled Chicken(Cooking Time:  About 20 Minutes)   and its fat-carbs-protein percentage is 0.67-0.03-0.28, total sweetness 6, total sourness 7, total bitterness 1, total umaminess 13, total saltness 18, total fatness 29\n",
      "\n",
      "Recipe Bat Zappers and its fat-carbs-protein percentage is 0.67-0.03-0.28, total sweetness 6, total sourness 7, total bitterness 1, total umaminess 13, total saltness 18, total fatness 29\n",
      "\n",
      "Recipe Blended Potato Pancakes and its fat-carbs-protein percentage is 0.67-0.03-0.28, total sweetness 6, total sourness 7, total bitterness 1, total umaminess 13, total saltness 18, total fatness 29\n",
      "\n",
      "Recipe Magic Cookies Bar and its fat-carbs-protein percentage is 0.67-0.03-0.28, total sweetness 6, total sourness 7, total bitterness 1, total umaminess 13, total saltness 18, total fatness 29\n",
      "\n",
      "Recipe Plain Flour Dumplings and its fat-carbs-protein percentage is 0.64-0.05-0.30, total sweetness 13, total sourness 11, total bitterness 9, total umaminess 16, total saltness 22, total fatness 36\n",
      "\n",
      "Recipe Lynn'S Pasta Suprise and its fat-carbs-protein percentage is 0.55-0.09-0.35, total sweetness 19, total sourness 27, total bitterness 7, total umaminess 39, total saltness 45, total fatness 57\n",
      "\n"
     ]
    }
   ],
   "source": [
    "query = \"\"\"\n",
    "    SELECT DISTINCT ?recipeName \n",
    "            (SUM(?carbs)/(SUM(?carbs)+SUM(?fat)+SUM(?protein)) AS ?carb_percentage)\n",
    "            (SUM(?fat)/(SUM(?carbs)+SUM(?fat)+SUM(?protein)) AS ?fat_percentage)\n",
    "            (SUM(?protein)/(SUM(?carbs)+SUM(?fat)+SUM(?protein)) AS ?protein_percentage) \n",
    "            \n",
    "            (SUM(?sweet) as ?totalSweetness) \n",
    "            (SUM(?sour) as ?totalSourness) \n",
    "            (SUM(?bitter) as ?totalBitterness) \n",
    "            (SUM(?umami) as ?totalUmaminess) \n",
    "            (SUM(?salt) as ?totalSaltness) \n",
    "            (SUM(?fatness) as ?totalFatness) \n",
    "    WHERE {\n",
    "        ?recipe n:hasIngredient ?ingredient.        \n",
    "        ?recipe n:hasRecipeName ?recipeName.\n",
    "\n",
    "        ?ingredient n:hasIngredientName ?ingredientName.\n",
    "        ?ingredient n:hasCarb ?carbs.\n",
    "        ?ingredient n:hasFat ?fat.\n",
    "        ?ingredient n:hasProtein ?protein.\n",
    "        \n",
    "        ?ingredient n:hasSweetness ?sweet.\n",
    "        ?ingredient n:hasSourness ?sour.\n",
    "        ?ingredient n:hasBitterness ?bitter.\n",
    "        ?ingredient n:hasUmaminess ?umami.\n",
    "        ?ingredient n:hasSaltness ?salt.\n",
    "        ?ingredient n:hasFatness ?fatness.\n",
    "    }\n",
    "    GROUP BY ?recipe\n",
    "    HAVING (SUM(?carbs)/(SUM(?carbs)+SUM(?fat)+SUM(?protein)) < 0.1)\n",
    "    ORDER BY DESC(?fat_percentage)\n",
    "    # LIMIT 10\n",
    "\"\"\"\n",
    "\n",
    "n = Namespace(\"http://example.org/\")\n",
    "result = g.query(query, initNs={'n': n})\n",
    "for row in result:\n",
    "    print(f\"Recipe {row[0]} and its fat-carbs-protein percentage is {str(row[2])[:4]}-{str(row[1])[:4]}-{str(row[3])[:4]}, \"\n",
    "        f\"total sweetness {row[4]}, total sourness {row[5]}, total bitterness {row[6]}, total umaminess {row[7]}, total saltness {row[8]}, total fatness {row[9]}\\n\")\n"
   ]
  }
 ],
 "metadata": {
  "kernelspec": {
   "display_name": "Python 3.10.9 64-bit",
   "language": "python",
   "name": "python3"
  },
  "language_info": {
   "codemirror_mode": {
    "name": "ipython",
    "version": 3
   },
   "file_extension": ".py",
   "mimetype": "text/x-python",
   "name": "python",
   "nbconvert_exporter": "python",
   "pygments_lexer": "ipython3",
   "version": "3.10.9"
  },
  "orig_nbformat": 4,
  "vscode": {
   "interpreter": {
    "hash": "fce4fb90388deaf1bd48d5cd0085ba64bba4d4518b6644dfe47737140f7fef1b"
   }
  }
 },
 "nbformat": 4,
 "nbformat_minor": 2
}
