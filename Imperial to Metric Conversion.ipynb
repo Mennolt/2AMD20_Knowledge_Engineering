{
 "cells": [
  {
   "cell_type": "markdown",
   "id": "ceb6e4ae",
   "metadata": {},
   "source": [
    "# Conversion to Metric\n",
    "This file is used to convert the many different units in the recipe_ingredients file into specifically kilos and liters."
   ]
  },
  {
   "cell_type": "code",
   "execution_count": 1,
   "id": "0c69815a",
   "metadata": {},
   "outputs": [],
   "source": [
    "import pandas as pd"
   ]
  },
  {
   "cell_type": "code",
   "execution_count": 16,
   "id": "a5974e75",
   "metadata": {},
   "outputs": [],
   "source": [
    "#read in relevant files\n",
    "df = pd.read_csv(\"NLG Recipe dataset/dataset/recipe_ingredientsv5.csv\")"
   ]
  },
  {
   "cell_type": "code",
   "execution_count": 2,
   "id": "d3331dfc",
   "metadata": {},
   "outputs": [],
   "source": [
    "#sorted(df[\"unit\"].unique())"
   ]
  },
  {
   "cell_type": "code",
   "execution_count": 3,
   "id": "acdc3442",
   "metadata": {},
   "outputs": [],
   "source": [
    "#df[\"unit\"].value_counts()"
   ]
  },
  {
   "cell_type": "code",
   "execution_count": 19,
   "id": "aad4e22c",
   "metadata": {},
   "outputs": [
    {
     "data": {
      "text/html": [
       "<div>\n",
       "<style scoped>\n",
       "    .dataframe tbody tr th:only-of-type {\n",
       "        vertical-align: middle;\n",
       "    }\n",
       "\n",
       "    .dataframe tbody tr th {\n",
       "        vertical-align: top;\n",
       "    }\n",
       "\n",
       "    .dataframe thead th {\n",
       "        text-align: right;\n",
       "    }\n",
       "</style>\n",
       "<table border=\"1\" class=\"dataframe\">\n",
       "  <thead>\n",
       "    <tr style=\"text-align: right;\">\n",
       "      <th></th>\n",
       "      <th>recipeID</th>\n",
       "      <th>quantity</th>\n",
       "      <th>unit</th>\n",
       "      <th>ingredient_NER</th>\n",
       "      <th>ingredient_Key_ingredient</th>\n",
       "      <th>rest of ingredient</th>\n",
       "    </tr>\n",
       "  </thead>\n",
       "  <tbody>\n",
       "    <tr>\n",
       "      <th>16036</th>\n",
       "      <td>106209</td>\n",
       "      <td>0.5</td>\n",
       "      <td>inches</td>\n",
       "      <td>onion</td>\n",
       "      <td>onion</td>\n",
       "      <td>sliced onion</td>\n",
       "    </tr>\n",
       "    <tr>\n",
       "      <th>27295</th>\n",
       "      <td>181084</td>\n",
       "      <td>12.0</td>\n",
       "      <td>inches</td>\n",
       "      <td>bread</td>\n",
       "      <td>bread</td>\n",
       "      <td>thick) slices French bread</td>\n",
       "    </tr>\n",
       "  </tbody>\n",
       "</table>\n",
       "</div>"
      ],
      "text/plain": [
       "       recipeID  quantity    unit ingredient_NER ingredient_Key_ingredient  \\\n",
       "16036    106209       0.5  inches          onion                     onion   \n",
       "27295    181084      12.0  inches          bread                     bread   \n",
       "\n",
       "                rest of ingredient  \n",
       "16036                 sliced onion  \n",
       "27295   thick) slices French bread  "
      ]
     },
     "execution_count": 19,
     "metadata": {},
     "output_type": "execute_result"
    }
   ],
   "source": [
    "#investigating some weird values\n",
    "df[df[\"unit\"]==\"inches\"]"
   ]
  },
  {
   "cell_type": "code",
   "execution_count": 20,
   "id": "376f89da",
   "metadata": {},
   "outputs": [],
   "source": [
    "#dictionary for conversion\n",
    "#has the nr of kg/l that a unit is. So ml would be 0.001.\n",
    "unit_convert_dict = {\n",
    "    ' ' : 0.5, #unspecified packages/items assumed to be 500grams\n",
    " 'bags' : 0.5,\n",
    " 'bar' : 0.25, #mostly chocolate bar, checked one random bar in AH\n",
    " 'bowls' : 0.473, #2 cups, which is what I estimate our soup bowls at home to be\n",
    " 'bunches' : 0.5, #unspecified = 500 grams\n",
    " 'bushel' : 0.5,\n",
    " 'cups' : 0.236,\n",
    " 'dashes' : 3.7e-4, #arcane imperial unit\n",
    " 'dl' : 0.1,\n",
    " 'dozen' : 0.5,\n",
    " 'fluid ounces' : 0.029,\n",
    " 'gallons' : 3.78,\n",
    " 'gill' : 0.118,\n",
    " 'grams' : 0.001,\n",
    " 'heads' : 1, \n",
    " 'inches' : 0.5, #weird unit, treated as no unit\n",
    " 'jars' : 0.5,\n",
    " 'kilograms' : 1,\n",
    " 'lbs' : 0.453,\n",
    " 'liters' : 1,\n",
    " 'ml' : 0.001,\n",
    " 'nr' : 0.5,\n",
    " 'ounces' : 0.028,\n",
    " 'packages' : 0.5,\n",
    " 'pieces' : 0.5,\n",
    " 'pints' : 0.473,\n",
    " 'quarts' : 0.947,\n",
    " 'tablespoons' : 0.014,\n",
    " 'teaspoons' : 0.005\n",
    "}"
   ]
  },
  {
   "cell_type": "code",
   "execution_count": 21,
   "id": "8a1c5f24",
   "metadata": {},
   "outputs": [],
   "source": [
    "#doing conversion\n",
    "df[\"metric_qty\"] = [df[\"quantity\"][i] * unit_convert_dict[df[\"unit\"][i]] for i in range(len(df))]"
   ]
  },
  {
   "cell_type": "code",
   "execution_count": 22,
   "id": "35cdb9cd",
   "metadata": {},
   "outputs": [
    {
     "data": {
      "text/html": [
       "<div>\n",
       "<style scoped>\n",
       "    .dataframe tbody tr th:only-of-type {\n",
       "        vertical-align: middle;\n",
       "    }\n",
       "\n",
       "    .dataframe tbody tr th {\n",
       "        vertical-align: top;\n",
       "    }\n",
       "\n",
       "    .dataframe thead th {\n",
       "        text-align: right;\n",
       "    }\n",
       "</style>\n",
       "<table border=\"1\" class=\"dataframe\">\n",
       "  <thead>\n",
       "    <tr style=\"text-align: right;\">\n",
       "      <th></th>\n",
       "      <th>recipeID</th>\n",
       "      <th>quantity</th>\n",
       "      <th>unit</th>\n",
       "      <th>ingredient_NER</th>\n",
       "      <th>ingredient_Key_ingredient</th>\n",
       "      <th>rest of ingredient</th>\n",
       "      <th>metric_qty</th>\n",
       "    </tr>\n",
       "  </thead>\n",
       "  <tbody>\n",
       "    <tr>\n",
       "      <th>0</th>\n",
       "      <td>5</td>\n",
       "      <td>1.00</td>\n",
       "      <td>cups</td>\n",
       "      <td>buttermilk</td>\n",
       "      <td>buttermilk</td>\n",
       "      <td>buttermilk</td>\n",
       "      <td>0.236</td>\n",
       "    </tr>\n",
       "    <tr>\n",
       "      <th>1</th>\n",
       "      <td>5</td>\n",
       "      <td>1.00</td>\n",
       "      <td>cups</td>\n",
       "      <td>buttermilk</td>\n",
       "      <td>buttermilk</td>\n",
       "      <td>buttermilk</td>\n",
       "      <td>0.236</td>\n",
       "    </tr>\n",
       "    <tr>\n",
       "      <th>2</th>\n",
       "      <td>40</td>\n",
       "      <td>0.25</td>\n",
       "      <td>cups</td>\n",
       "      <td>onion</td>\n",
       "      <td>onion</td>\n",
       "      <td>chopped onion (or as much as you want)</td>\n",
       "      <td>0.059</td>\n",
       "    </tr>\n",
       "    <tr>\n",
       "      <th>3</th>\n",
       "      <td>40</td>\n",
       "      <td>1.00</td>\n",
       "      <td>packages</td>\n",
       "      <td>broccoli</td>\n",
       "      <td>broccoli</td>\n",
       "      <td>chopped broccoli</td>\n",
       "      <td>0.500</td>\n",
       "    </tr>\n",
       "    <tr>\n",
       "      <th>4</th>\n",
       "      <td>44</td>\n",
       "      <td>4.00</td>\n",
       "      <td>cups</td>\n",
       "      <td>cabbage</td>\n",
       "      <td>cabbage</td>\n",
       "      <td>shredded cabbage</td>\n",
       "      <td>0.944</td>\n",
       "    </tr>\n",
       "  </tbody>\n",
       "</table>\n",
       "</div>"
      ],
      "text/plain": [
       "   recipeID  quantity      unit ingredient_NER ingredient_Key_ingredient  \\\n",
       "0         5      1.00      cups     buttermilk                buttermilk   \n",
       "1         5      1.00      cups     buttermilk                buttermilk   \n",
       "2        40      0.25      cups          onion                     onion   \n",
       "3        40      1.00  packages       broccoli                  broccoli   \n",
       "4        44      4.00      cups        cabbage                   cabbage   \n",
       "\n",
       "                        rest of ingredient  metric_qty  \n",
       "0                               buttermilk       0.236  \n",
       "1                               buttermilk       0.236  \n",
       "2   chopped onion (or as much as you want)       0.059  \n",
       "3                         chopped broccoli       0.500  \n",
       "4                         shredded cabbage       0.944  "
      ]
     },
     "execution_count": 22,
     "metadata": {},
     "output_type": "execute_result"
    }
   ],
   "source": [
    "df.head()"
   ]
  },
  {
   "cell_type": "code",
   "execution_count": 23,
   "id": "1e2d140b",
   "metadata": {},
   "outputs": [],
   "source": [
    "#saving result\n",
    "df.to_csv(\"NLG Recipe dataset/dataset/recipe_ingredientsv6.csv\", index=False)"
   ]
  },
  {
   "cell_type": "code",
   "execution_count": null,
   "id": "724b25b4",
   "metadata": {},
   "outputs": [],
   "source": []
  }
 ],
 "metadata": {
  "kernelspec": {
   "display_name": "Python 3 (ipykernel)",
   "language": "python",
   "name": "python3"
  },
  "language_info": {
   "codemirror_mode": {
    "name": "ipython",
    "version": 3
   },
   "file_extension": ".py",
   "mimetype": "text/x-python",
   "name": "python",
   "nbconvert_exporter": "python",
   "pygments_lexer": "ipython3",
   "version": "3.9.7"
  }
 },
 "nbformat": 4,
 "nbformat_minor": 5
}
